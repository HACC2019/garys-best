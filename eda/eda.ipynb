{
 "cells": [
  {
   "cell_type": "code",
   "execution_count": 1,
   "metadata": {},
   "outputs": [],
   "source": [
    "import numpy as np\n",
    "import pandas as pd"
   ]
  },
  {
   "cell_type": "code",
   "execution_count": 3,
   "metadata": {},
   "outputs": [
    {
     "data": {
      "text/html": [
       "<div>\n",
       "<style scoped>\n",
       "    .dataframe tbody tr th:only-of-type {\n",
       "        vertical-align: middle;\n",
       "    }\n",
       "\n",
       "    .dataframe tbody tr th {\n",
       "        vertical-align: top;\n",
       "    }\n",
       "\n",
       "    .dataframe thead th {\n",
       "        text-align: right;\n",
       "    }\n",
       "</style>\n",
       "<table border=\"1\" class=\"dataframe\">\n",
       "  <thead>\n",
       "    <tr style=\"text-align: right;\">\n",
       "      <th></th>\n",
       "      <th>Charge Station Name</th>\n",
       "      <th>Session Initiated By</th>\n",
       "      <th>Start Time</th>\n",
       "      <th>End Time</th>\n",
       "      <th>Duration</th>\n",
       "      <th>Energy(kWh)</th>\n",
       "      <th>Session Amount</th>\n",
       "      <th>Session Id</th>\n",
       "      <th>Port Type</th>\n",
       "      <th>Payment Mode</th>\n",
       "    </tr>\n",
       "  </thead>\n",
       "  <tbody>\n",
       "    <tr>\n",
       "      <th>0</th>\n",
       "      <td>A</td>\n",
       "      <td>MOBILE</td>\n",
       "      <td>9/1/2018 7:25</td>\n",
       "      <td>9/1/2018 7:53</td>\n",
       "      <td>0:28:29</td>\n",
       "      <td>8.84</td>\n",
       "      <td>$4.77</td>\n",
       "      <td>3168811</td>\n",
       "      <td>CHADEMO</td>\n",
       "      <td>RFID</td>\n",
       "    </tr>\n",
       "    <tr>\n",
       "      <th>1</th>\n",
       "      <td>A</td>\n",
       "      <td>MOBILE</td>\n",
       "      <td>9/1/2018 8:03</td>\n",
       "      <td>9/1/2018 8:34</td>\n",
       "      <td>0:31:18</td>\n",
       "      <td>22.02</td>\n",
       "      <td>$11.89</td>\n",
       "      <td>3168847</td>\n",
       "      <td>CHADEMO</td>\n",
       "      <td>CREDITCARD</td>\n",
       "    </tr>\n",
       "    <tr>\n",
       "      <th>2</th>\n",
       "      <td>A</td>\n",
       "      <td>MOBILE</td>\n",
       "      <td>9/1/2018 10:24</td>\n",
       "      <td>9/1/2018 10:25</td>\n",
       "      <td>0:00:18</td>\n",
       "      <td>0.00</td>\n",
       "      <td>$0.00</td>\n",
       "      <td>3169011</td>\n",
       "      <td>CHADEMO</td>\n",
       "      <td>RFID</td>\n",
       "    </tr>\n",
       "    <tr>\n",
       "      <th>3</th>\n",
       "      <td>A</td>\n",
       "      <td>MOBILE</td>\n",
       "      <td>9/1/2018 10:26</td>\n",
       "      <td>9/1/2018 11:02</td>\n",
       "      <td>0:36:04</td>\n",
       "      <td>23.80</td>\n",
       "      <td>$11.66</td>\n",
       "      <td>3169015</td>\n",
       "      <td>CHADEMO</td>\n",
       "      <td>RFID</td>\n",
       "    </tr>\n",
       "    <tr>\n",
       "      <th>4</th>\n",
       "      <td>A</td>\n",
       "      <td>MOBILE</td>\n",
       "      <td>9/1/2018 11:07</td>\n",
       "      <td>9/1/2018 11:39</td>\n",
       "      <td>0:31:17</td>\n",
       "      <td>9.87</td>\n",
       "      <td>$4.84</td>\n",
       "      <td>3169054</td>\n",
       "      <td>CHADEMO</td>\n",
       "      <td>RFID</td>\n",
       "    </tr>\n",
       "  </tbody>\n",
       "</table>\n",
       "</div>"
      ],
      "text/plain": [
       "  Charge Station Name Session Initiated By      Start Time        End Time  \\\n",
       "0                   A               MOBILE   9/1/2018 7:25   9/1/2018 7:53   \n",
       "1                   A               MOBILE   9/1/2018 8:03   9/1/2018 8:34   \n",
       "2                   A               MOBILE  9/1/2018 10:24  9/1/2018 10:25   \n",
       "3                   A               MOBILE  9/1/2018 10:26  9/1/2018 11:02   \n",
       "4                   A               MOBILE  9/1/2018 11:07  9/1/2018 11:39   \n",
       "\n",
       "  Duration  Energy(kWh) Session Amount  Session Id Port Type Payment Mode  \n",
       "0  0:28:29         8.84         $4.77      3168811   CHADEMO         RFID  \n",
       "1  0:31:18        22.02        $11.89      3168847   CHADEMO   CREDITCARD  \n",
       "2  0:00:18         0.00         $0.00      3169011   CHADEMO         RFID  \n",
       "3  0:36:04        23.80        $11.66      3169015   CHADEMO         RFID  \n",
       "4  0:31:17         9.87         $4.84      3169054   CHADEMO         RFID  "
      ]
     },
     "execution_count": 3,
     "metadata": {},
     "output_type": "execute_result"
    }
   ],
   "source": [
    "df = pd.read_csv('data/hacc.csv')\n",
    "df.head()"
   ]
  },
  {
   "cell_type": "code",
   "execution_count": 15,
   "metadata": {},
   "outputs": [
    {
     "name": "stdout",
     "output_type": "stream",
     "text": [
      "Index(['name', 'session_type', 'start_time', 'end_time', 'duration', 'energy',\n",
      "       'amount', 'id', 'port_type', 'payment_mode'],\n",
      "      dtype='object')\n",
      "Index(['name', 'session_type', 'start_time', 'end_time', 'duration', 'energy',\n",
      "       'amount', 'id', 'port_type', 'payment_mode'],\n",
      "      dtype='object')\n"
     ]
    }
   ],
   "source": [
    "print(df.columns)\n",
    "df.columns = ['name', 'session_type', 'start_time', 'end_time', 'duration', 'energy', 'amount', 'id', 'port_type', 'payment_mode']\n",
    "print(df.columns)"
   ]
  },
  {
   "cell_type": "code",
   "execution_count": 16,
   "metadata": {},
   "outputs": [
    {
     "data": {
      "text/plain": [
       "name                    object\n",
       "session_type            object\n",
       "start_time      datetime64[ns]\n",
       "end_time        datetime64[ns]\n",
       "duration                object\n",
       "energy                 float64\n",
       "amount                  object\n",
       "id                       int64\n",
       "port_type               object\n",
       "payment_mode            object\n",
       "dtype: object"
      ]
     },
     "execution_count": 16,
     "metadata": {},
     "output_type": "execute_result"
    }
   ],
   "source": [
    "df.dtypes"
   ]
  },
  {
   "cell_type": "code",
   "execution_count": 18,
   "metadata": {},
   "outputs": [
    {
     "data": {
      "text/html": [
       "<div>\n",
       "<style scoped>\n",
       "    .dataframe tbody tr th:only-of-type {\n",
       "        vertical-align: middle;\n",
       "    }\n",
       "\n",
       "    .dataframe tbody tr th {\n",
       "        vertical-align: top;\n",
       "    }\n",
       "\n",
       "    .dataframe thead th {\n",
       "        text-align: right;\n",
       "    }\n",
       "</style>\n",
       "<table border=\"1\" class=\"dataframe\">\n",
       "  <thead>\n",
       "    <tr style=\"text-align: right;\">\n",
       "      <th></th>\n",
       "      <th>name</th>\n",
       "      <th>session_type</th>\n",
       "      <th>start_time</th>\n",
       "      <th>end_time</th>\n",
       "      <th>duration</th>\n",
       "      <th>energy</th>\n",
       "      <th>amount</th>\n",
       "      <th>id</th>\n",
       "      <th>port_type</th>\n",
       "      <th>payment_mode</th>\n",
       "    </tr>\n",
       "  </thead>\n",
       "  <tbody>\n",
       "    <tr>\n",
       "      <th>0</th>\n",
       "      <td>A</td>\n",
       "      <td>MOBILE</td>\n",
       "      <td>2018-09-01 07:25:00</td>\n",
       "      <td>2018-09-01 07:53:00</td>\n",
       "      <td>0:28:29</td>\n",
       "      <td>8.84</td>\n",
       "      <td>4.77</td>\n",
       "      <td>3168811</td>\n",
       "      <td>CHADEMO</td>\n",
       "      <td>RFID</td>\n",
       "    </tr>\n",
       "    <tr>\n",
       "      <th>1</th>\n",
       "      <td>A</td>\n",
       "      <td>MOBILE</td>\n",
       "      <td>2018-09-01 08:03:00</td>\n",
       "      <td>2018-09-01 08:34:00</td>\n",
       "      <td>0:31:18</td>\n",
       "      <td>22.02</td>\n",
       "      <td>11.89</td>\n",
       "      <td>3168847</td>\n",
       "      <td>CHADEMO</td>\n",
       "      <td>CREDITCARD</td>\n",
       "    </tr>\n",
       "    <tr>\n",
       "      <th>2</th>\n",
       "      <td>A</td>\n",
       "      <td>MOBILE</td>\n",
       "      <td>2018-09-01 10:24:00</td>\n",
       "      <td>2018-09-01 10:25:00</td>\n",
       "      <td>0:00:18</td>\n",
       "      <td>0.00</td>\n",
       "      <td>0.00</td>\n",
       "      <td>3169011</td>\n",
       "      <td>CHADEMO</td>\n",
       "      <td>RFID</td>\n",
       "    </tr>\n",
       "    <tr>\n",
       "      <th>3</th>\n",
       "      <td>A</td>\n",
       "      <td>MOBILE</td>\n",
       "      <td>2018-09-01 10:26:00</td>\n",
       "      <td>2018-09-01 11:02:00</td>\n",
       "      <td>0:36:04</td>\n",
       "      <td>23.80</td>\n",
       "      <td>11.66</td>\n",
       "      <td>3169015</td>\n",
       "      <td>CHADEMO</td>\n",
       "      <td>RFID</td>\n",
       "    </tr>\n",
       "    <tr>\n",
       "      <th>4</th>\n",
       "      <td>A</td>\n",
       "      <td>MOBILE</td>\n",
       "      <td>2018-09-01 11:07:00</td>\n",
       "      <td>2018-09-01 11:39:00</td>\n",
       "      <td>0:31:17</td>\n",
       "      <td>9.87</td>\n",
       "      <td>4.84</td>\n",
       "      <td>3169054</td>\n",
       "      <td>CHADEMO</td>\n",
       "      <td>RFID</td>\n",
       "    </tr>\n",
       "  </tbody>\n",
       "</table>\n",
       "</div>"
      ],
      "text/plain": [
       "  name session_type          start_time            end_time duration  energy  \\\n",
       "0    A       MOBILE 2018-09-01 07:25:00 2018-09-01 07:53:00  0:28:29    8.84   \n",
       "1    A       MOBILE 2018-09-01 08:03:00 2018-09-01 08:34:00  0:31:18   22.02   \n",
       "2    A       MOBILE 2018-09-01 10:24:00 2018-09-01 10:25:00  0:00:18    0.00   \n",
       "3    A       MOBILE 2018-09-01 10:26:00 2018-09-01 11:02:00  0:36:04   23.80   \n",
       "4    A       MOBILE 2018-09-01 11:07:00 2018-09-01 11:39:00  0:31:17    9.87   \n",
       "\n",
       "   amount       id port_type payment_mode  \n",
       "0    4.77  3168811   CHADEMO         RFID  \n",
       "1   11.89  3168847   CHADEMO   CREDITCARD  \n",
       "2    0.00  3169011   CHADEMO         RFID  \n",
       "3   11.66  3169015   CHADEMO         RFID  \n",
       "4    4.84  3169054   CHADEMO         RFID  "
      ]
     },
     "execution_count": 18,
     "metadata": {},
     "output_type": "execute_result"
    }
   ],
   "source": [
    "df['start_time'] = pd.to_datetime(df['start_time'])\n",
    "df['end_time'] = pd.to_datetime(df['end_time'])\n",
    "\n",
    "# Changes the payment amount to a raw float value instead of a string of the form \"$X.XX\"\n",
    "df['amount'] = df['amount'].replace('[\\$,]', '', regex=True).astype(float)\n",
    "df.head()"
   ]
  },
  {
   "cell_type": "code",
   "execution_count": 26,
   "metadata": {},
   "outputs": [
    {
     "name": "stdout",
     "output_type": "stream",
     "text": [
      "   name session_type          start_time            end_time duration  energy  \\\n",
      "2     A       MOBILE 2018-09-01 10:24:00 2018-09-01 10:25:00  0:00:18     0.0   \n",
      "14    A       DEVICE 2018-09-01 20:19:00 2018-09-01 20:19:00  0:00:18     0.0   \n",
      "15    A       DEVICE 2018-09-01 20:21:00 2018-09-01 20:21:00  0:00:18     0.0   \n",
      "20    A       DEVICE 2018-09-02 12:11:00 2018-09-02 12:12:00  0:00:17     0.0   \n",
      "21    A       DEVICE 2018-09-02 12:12:00 2018-09-02 12:13:00  0:00:18     0.0   \n",
      "\n",
      "    amount       id port_type payment_mode  \n",
      "2      0.0  3169011   CHADEMO         RFID  \n",
      "14     0.0  3169515   CHADEMO   CREDITCARD  \n",
      "15     0.0  3169516   CHADEMO   CREDITCARD  \n",
      "20     0.0  3170042   CHADEMO   CREDITCARD  \n",
      "21     0.0  3170043   CHADEMO   CREDITCARD  \n"
     ]
    }
   ],
   "source": [
    "# Checking for missing values\n",
    "missing = df[(df['energy'] == 0) | (df['amount'] == 0)]\n"
   ]
  },
  {
   "cell_type": "markdown",
   "metadata": {},
   "source": []
  }
 ],
 "metadata": {
  "kernelspec": {
   "display_name": "Python 3",
   "language": "python",
   "name": "python3"
  },
  "language_info": {
   "codemirror_mode": {
    "name": "ipython",
    "version": 3
   },
   "file_extension": ".py",
   "mimetype": "text/x-python",
   "name": "python",
   "nbconvert_exporter": "python",
   "pygments_lexer": "ipython3",
   "version": "3.7.1"
  }
 },
 "nbformat": 4,
 "nbformat_minor": 2
}
